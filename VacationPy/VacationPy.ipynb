{
 "cells": [
  {
   "cell_type": "markdown",
   "metadata": {},
   "source": [
    "# VacationPy\n",
    "----\n",
    "\n",
    "#### Note\n",
    "* Instructions have been included for each segment. You do not have to follow them exactly, but they are included to help you think through the steps."
   ]
  },
  {
   "cell_type": "code",
   "execution_count": 1,
   "metadata": {},
   "outputs": [],
   "source": [
    "# Dependencies and Setup\n",
    "import matplotlib.pyplot as plt\n",
    "import pandas as pd\n",
    "import numpy as np\n",
    "import requests\n",
    "import gmaps\n",
    "import os\n",
    "\n",
    "# Import API key\n",
    "from api_keys import g_key\n",
    "\n",
    "\n",
    "#Maps config\n",
    "gmaps.configure(api_key=g_key)\n",
    "\n"
   ]
  },
  {
   "cell_type": "markdown",
   "metadata": {},
   "source": [
    "### Store Part I results into DataFrame\n",
    "* Load the csv exported in Part I to a DataFrame"
   ]
  },
  {
   "cell_type": "code",
   "execution_count": 2,
   "metadata": {},
   "outputs": [
    {
     "data": {
      "text/html": [
       "<div>\n",
       "<style scoped>\n",
       "    .dataframe tbody tr th:only-of-type {\n",
       "        vertical-align: middle;\n",
       "    }\n",
       "\n",
       "    .dataframe tbody tr th {\n",
       "        vertical-align: top;\n",
       "    }\n",
       "\n",
       "    .dataframe thead th {\n",
       "        text-align: right;\n",
       "    }\n",
       "</style>\n",
       "<table border=\"1\" class=\"dataframe\">\n",
       "  <thead>\n",
       "    <tr style=\"text-align: right;\">\n",
       "      <th></th>\n",
       "      <th>City</th>\n",
       "      <th>Cloudiness (%)</th>\n",
       "      <th>Country</th>\n",
       "      <th>Date (UTC)</th>\n",
       "      <th>Humidity (%)</th>\n",
       "      <th>Lat</th>\n",
       "      <th>Lng</th>\n",
       "      <th>Max Tem (F)</th>\n",
       "      <th>Wind Speed (mph)</th>\n",
       "    </tr>\n",
       "  </thead>\n",
       "  <tbody>\n",
       "    <tr>\n",
       "      <th>0</th>\n",
       "      <td>sao joaquim</td>\n",
       "      <td>57</td>\n",
       "      <td>BR</td>\n",
       "      <td>1603677066</td>\n",
       "      <td>100</td>\n",
       "      <td>-28.29</td>\n",
       "      <td>-49.93</td>\n",
       "      <td>53.96</td>\n",
       "      <td>3.78</td>\n",
       "    </tr>\n",
       "    <tr>\n",
       "      <th>1</th>\n",
       "      <td>sur</td>\n",
       "      <td>0</td>\n",
       "      <td>OM</td>\n",
       "      <td>1603676975</td>\n",
       "      <td>64</td>\n",
       "      <td>22.57</td>\n",
       "      <td>59.53</td>\n",
       "      <td>72.27</td>\n",
       "      <td>5.68</td>\n",
       "    </tr>\n",
       "    <tr>\n",
       "      <th>2</th>\n",
       "      <td>cape town</td>\n",
       "      <td>1</td>\n",
       "      <td>ZA</td>\n",
       "      <td>1603676783</td>\n",
       "      <td>89</td>\n",
       "      <td>-33.93</td>\n",
       "      <td>18.42</td>\n",
       "      <td>61.00</td>\n",
       "      <td>4.00</td>\n",
       "    </tr>\n",
       "    <tr>\n",
       "      <th>3</th>\n",
       "      <td>upernavik</td>\n",
       "      <td>55</td>\n",
       "      <td>GL</td>\n",
       "      <td>1603677067</td>\n",
       "      <td>78</td>\n",
       "      <td>72.79</td>\n",
       "      <td>-56.15</td>\n",
       "      <td>13.96</td>\n",
       "      <td>5.75</td>\n",
       "    </tr>\n",
       "    <tr>\n",
       "      <th>4</th>\n",
       "      <td>hithadhoo</td>\n",
       "      <td>10</td>\n",
       "      <td>MV</td>\n",
       "      <td>1603677028</td>\n",
       "      <td>65</td>\n",
       "      <td>-0.60</td>\n",
       "      <td>73.08</td>\n",
       "      <td>83.70</td>\n",
       "      <td>6.24</td>\n",
       "    </tr>\n",
       "  </tbody>\n",
       "</table>\n",
       "</div>"
      ],
      "text/plain": [
       "          City  Cloudiness (%) Country  Date (UTC)  Humidity (%)    Lat  \\\n",
       "0  sao joaquim              57      BR  1603677066           100 -28.29   \n",
       "1          sur               0      OM  1603676975            64  22.57   \n",
       "2    cape town               1      ZA  1603676783            89 -33.93   \n",
       "3    upernavik              55      GL  1603677067            78  72.79   \n",
       "4    hithadhoo              10      MV  1603677028            65  -0.60   \n",
       "\n",
       "     Lng  Max Tem (F)  Wind Speed (mph)  \n",
       "0 -49.93        53.96              3.78  \n",
       "1  59.53        72.27              5.68  \n",
       "2  18.42        61.00              4.00  \n",
       "3 -56.15        13.96              5.75  \n",
       "4  73.08        83.70              6.24  "
      ]
     },
     "execution_count": 2,
     "metadata": {},
     "output_type": "execute_result"
    }
   ],
   "source": [
    "File=os.path.join('..','WeatherPy','OutputData','cities.csv')\n",
    "Cities=pd.read_csv(File)\n",
    "Cities.head()"
   ]
  },
  {
   "cell_type": "markdown",
   "metadata": {},
   "source": [
    "### Humidity Heatmap\n",
    "* Configure gmaps.\n",
    "* Use the Lat and Lng as locations and Humidity as the weight.\n",
    "* Add Heatmap layer to map."
   ]
  },
  {
   "cell_type": "code",
   "execution_count": 3,
   "metadata": {},
   "outputs": [],
   "source": [
    "Humidity=Cities['Humidity (%)']\n",
    "MaxHumidity=float(Humidity.max())\n",
    "Coordinates=Cities[['Lat','Lng']]\n",
    "PointRadius=10\n"
   ]
  },
  {
   "cell_type": "code",
   "execution_count": 4,
   "metadata": {
    "scrolled": true
   },
   "outputs": [
    {
     "data": {
      "application/vnd.jupyter.widget-view+json": {
       "model_id": "f4e6702ba8004ab2a7b0e3a6e346d4e1",
       "version_major": 2,
       "version_minor": 0
      },
      "text/plain": [
       "Figure(layout=FigureLayout(height='500px', margin='0 auto 0 auto', width='500px'))"
      ]
     },
     "metadata": {},
     "output_type": "display_data"
    }
   ],
   "source": [
    "figure_layout={'width':'500px', 'height':'500px','margin':'0 auto 0 auto'}\n",
    "fig=gmaps.figure(layout=figure_layout)\n",
    "heatmap_layer=gmaps.heatmap_layer(\n",
    "    Coordinates, weights=Humidity,\n",
    "    max_intensity=MaxHumidity, point_radius=PointRadius\n",
    ")\n",
    "\n",
    "fig.add_layer(heatmap_layer)\n",
    "fig\n"
   ]
  },
  {
   "cell_type": "code",
   "execution_count": null,
   "metadata": {},
   "outputs": [],
   "source": []
  },
  {
   "cell_type": "markdown",
   "metadata": {},
   "source": [
    "### Create new DataFrame fitting weather criteria\n",
    "* Narrow down the cities to fit weather conditions.\n",
    "* Drop any rows will null values."
   ]
  },
  {
   "cell_type": "code",
   "execution_count": 5,
   "metadata": {
    "scrolled": true
   },
   "outputs": [
    {
     "data": {
      "text/html": [
       "<div>\n",
       "<style scoped>\n",
       "    .dataframe tbody tr th:only-of-type {\n",
       "        vertical-align: middle;\n",
       "    }\n",
       "\n",
       "    .dataframe tbody tr th {\n",
       "        vertical-align: top;\n",
       "    }\n",
       "\n",
       "    .dataframe thead th {\n",
       "        text-align: right;\n",
       "    }\n",
       "</style>\n",
       "<table border=\"1\" class=\"dataframe\">\n",
       "  <thead>\n",
       "    <tr style=\"text-align: right;\">\n",
       "      <th></th>\n",
       "      <th>City</th>\n",
       "      <th>Cloudiness (%)</th>\n",
       "      <th>Country</th>\n",
       "      <th>Date (UTC)</th>\n",
       "      <th>Humidity (%)</th>\n",
       "      <th>Lat</th>\n",
       "      <th>Lng</th>\n",
       "      <th>Max Tem (F)</th>\n",
       "      <th>Wind Speed (mph)</th>\n",
       "    </tr>\n",
       "  </thead>\n",
       "  <tbody>\n",
       "    <tr>\n",
       "      <th>1</th>\n",
       "      <td>sur</td>\n",
       "      <td>0</td>\n",
       "      <td>OM</td>\n",
       "      <td>1603676975</td>\n",
       "      <td>64</td>\n",
       "      <td>22.57</td>\n",
       "      <td>59.53</td>\n",
       "      <td>72.27</td>\n",
       "      <td>5.68</td>\n",
       "    </tr>\n",
       "    <tr>\n",
       "      <th>15</th>\n",
       "      <td>bhinmal</td>\n",
       "      <td>0</td>\n",
       "      <td>IN</td>\n",
       "      <td>1603677070</td>\n",
       "      <td>52</td>\n",
       "      <td>25.00</td>\n",
       "      <td>72.25</td>\n",
       "      <td>73.26</td>\n",
       "      <td>2.17</td>\n",
       "    </tr>\n",
       "    <tr>\n",
       "      <th>95</th>\n",
       "      <td>doha</td>\n",
       "      <td>0</td>\n",
       "      <td>QA</td>\n",
       "      <td>1603677074</td>\n",
       "      <td>74</td>\n",
       "      <td>25.29</td>\n",
       "      <td>51.53</td>\n",
       "      <td>78.80</td>\n",
       "      <td>2.24</td>\n",
       "    </tr>\n",
       "    <tr>\n",
       "      <th>138</th>\n",
       "      <td>busselton</td>\n",
       "      <td>0</td>\n",
       "      <td>AU</td>\n",
       "      <td>1603677194</td>\n",
       "      <td>52</td>\n",
       "      <td>-33.65</td>\n",
       "      <td>115.33</td>\n",
       "      <td>73.99</td>\n",
       "      <td>3.00</td>\n",
       "    </tr>\n",
       "    <tr>\n",
       "      <th>169</th>\n",
       "      <td>dakar</td>\n",
       "      <td>0</td>\n",
       "      <td>SN</td>\n",
       "      <td>1603677250</td>\n",
       "      <td>88</td>\n",
       "      <td>14.69</td>\n",
       "      <td>-17.44</td>\n",
       "      <td>78.80</td>\n",
       "      <td>8.05</td>\n",
       "    </tr>\n",
       "  </tbody>\n",
       "</table>\n",
       "</div>"
      ],
      "text/plain": [
       "          City  Cloudiness (%) Country  Date (UTC)  Humidity (%)    Lat  \\\n",
       "1          sur               0      OM  1603676975            64  22.57   \n",
       "15     bhinmal               0      IN  1603677070            52  25.00   \n",
       "95        doha               0      QA  1603677074            74  25.29   \n",
       "138  busselton               0      AU  1603677194            52 -33.65   \n",
       "169      dakar               0      SN  1603677250            88  14.69   \n",
       "\n",
       "        Lng  Max Tem (F)  Wind Speed (mph)  \n",
       "1     59.53        72.27              5.68  \n",
       "15    72.25        73.26              2.17  \n",
       "95    51.53        78.80              2.24  \n",
       "138  115.33        73.99              3.00  \n",
       "169  -17.44        78.80              8.05  "
      ]
     },
     "execution_count": 5,
     "metadata": {},
     "output_type": "execute_result"
    }
   ],
   "source": [
    "#Criteria to Narrow for temperature, wind and cloudiness\n",
    "#Ideal weather condition\n",
    "MaxTemp=80\n",
    "MinTem=70\n",
    "WindSpeed=10\n",
    "Cloudiness=0\n",
    "\n",
    "narrowed_city_df=Cities.loc[\n",
    "    (Cities['Max Tem (F)']>MinTem) &\n",
    "    (Cities['Max Tem (F)']<MaxTemp) &\n",
    "    (Cities['Wind Speed (mph)']<WindSpeed) &\n",
    "    (Cities['Cloudiness (%)']==Cloudiness) ]\n",
    "\n",
    "\n",
    "narrowed_city_df.head()\n"
   ]
  },
  {
   "cell_type": "code",
   "execution_count": 6,
   "metadata": {},
   "outputs": [
    {
     "data": {
      "text/plain": [
       "19"
      ]
     },
     "execution_count": 6,
     "metadata": {},
     "output_type": "execute_result"
    }
   ],
   "source": [
    "len(narrowed_city_df)"
   ]
  },
  {
   "cell_type": "markdown",
   "metadata": {},
   "source": [
    "### Hotel Map\n",
    "* Store into variable named `hotel_df`.\n",
    "* Add a \"Hotel Name\" column to the DataFrame.\n",
    "* Set parameters to search for hotels with 5000 meters.\n",
    "* Hit the Google Places API for each city's coordinates.\n",
    "* Store the first Hotel result into the DataFrame.\n",
    "* Plot markers on top of the heatmap."
   ]
  },
  {
   "cell_type": "code",
   "execution_count": 11,
   "metadata": {
    "scrolled": true
   },
   "outputs": [],
   "source": [
    "narrowed_city_df['Hotel Name']=''\n",
    "\n",
    "target_radius=5000\n",
    "target_type='hotel'\n",
    "keyword='hotel'\n",
    "\n",
    "for index,row in narrowed_city_df.iterrows():\n",
    "    \n",
    "    latitud=row['Lat']\n",
    "    longitud=row['Lng']\n",
    "    \n",
    "    #set up a parameters dictionary\n",
    "    params={'location':f'{latitud},{longitud}',\n",
    "            'radius':target_radius,\n",
    "            'type':target_type,\n",
    "            'keyword':keyword,\n",
    "            'key':g_key\n",
    "        }\n",
    "    #base url\n",
    "    base_url =\"https://maps.googleapis.com/maps/api/place/nearbysearch/json?\"\n",
    "    \n",
    "    # run a request using our params dictionary\n",
    "    response = requests.get(base_url, params=params).json()\n",
    "    \n",
    "    try:\n",
    "        narrowed_city_df.loc[index, 'Hotel Name']=response['results'][0]['name']\n",
    "        \n",
    "    except (KeyError, IndexError):\n",
    "        narrowed_city_df.loc[index, 'Hotel Name']=np.nan"
   ]
  },
  {
   "cell_type": "code",
   "execution_count": 12,
   "metadata": {},
   "outputs": [
    {
     "data": {
      "text/html": [
       "<div>\n",
       "<style scoped>\n",
       "    .dataframe tbody tr th:only-of-type {\n",
       "        vertical-align: middle;\n",
       "    }\n",
       "\n",
       "    .dataframe tbody tr th {\n",
       "        vertical-align: top;\n",
       "    }\n",
       "\n",
       "    .dataframe thead th {\n",
       "        text-align: right;\n",
       "    }\n",
       "</style>\n",
       "<table border=\"1\" class=\"dataframe\">\n",
       "  <thead>\n",
       "    <tr style=\"text-align: right;\">\n",
       "      <th></th>\n",
       "      <th>City</th>\n",
       "      <th>Cloudiness (%)</th>\n",
       "      <th>Country</th>\n",
       "      <th>Date (UTC)</th>\n",
       "      <th>Humidity (%)</th>\n",
       "      <th>Lat</th>\n",
       "      <th>Lng</th>\n",
       "      <th>Max Tem (F)</th>\n",
       "      <th>Wind Speed (mph)</th>\n",
       "      <th>Hotel Name</th>\n",
       "    </tr>\n",
       "  </thead>\n",
       "  <tbody>\n",
       "    <tr>\n",
       "      <th>1</th>\n",
       "      <td>sur</td>\n",
       "      <td>0</td>\n",
       "      <td>OM</td>\n",
       "      <td>1603676975</td>\n",
       "      <td>64</td>\n",
       "      <td>22.57</td>\n",
       "      <td>59.53</td>\n",
       "      <td>72.27</td>\n",
       "      <td>5.68</td>\n",
       "      <td>Sur Plaza Hotel</td>\n",
       "    </tr>\n",
       "    <tr>\n",
       "      <th>15</th>\n",
       "      <td>bhinmal</td>\n",
       "      <td>0</td>\n",
       "      <td>IN</td>\n",
       "      <td>1603677070</td>\n",
       "      <td>52</td>\n",
       "      <td>25.00</td>\n",
       "      <td>72.25</td>\n",
       "      <td>73.26</td>\n",
       "      <td>2.17</td>\n",
       "      <td>Hotel Sai Palace</td>\n",
       "    </tr>\n",
       "    <tr>\n",
       "      <th>95</th>\n",
       "      <td>doha</td>\n",
       "      <td>0</td>\n",
       "      <td>QA</td>\n",
       "      <td>1603677074</td>\n",
       "      <td>74</td>\n",
       "      <td>25.29</td>\n",
       "      <td>51.53</td>\n",
       "      <td>78.80</td>\n",
       "      <td>2.24</td>\n",
       "      <td>Al Najada Doha Hotel by Tivoli</td>\n",
       "    </tr>\n",
       "    <tr>\n",
       "      <th>138</th>\n",
       "      <td>busselton</td>\n",
       "      <td>0</td>\n",
       "      <td>AU</td>\n",
       "      <td>1603677194</td>\n",
       "      <td>52</td>\n",
       "      <td>-33.65</td>\n",
       "      <td>115.33</td>\n",
       "      <td>73.99</td>\n",
       "      <td>3.00</td>\n",
       "      <td>Broadwater Resort</td>\n",
       "    </tr>\n",
       "    <tr>\n",
       "      <th>169</th>\n",
       "      <td>dakar</td>\n",
       "      <td>0</td>\n",
       "      <td>SN</td>\n",
       "      <td>1603677250</td>\n",
       "      <td>88</td>\n",
       "      <td>14.69</td>\n",
       "      <td>-17.44</td>\n",
       "      <td>78.80</td>\n",
       "      <td>8.05</td>\n",
       "      <td>Radisson Blu Hotel, Dakar Sea Plaza</td>\n",
       "    </tr>\n",
       "  </tbody>\n",
       "</table>\n",
       "</div>"
      ],
      "text/plain": [
       "          City  Cloudiness (%) Country  Date (UTC)  Humidity (%)    Lat  \\\n",
       "1          sur               0      OM  1603676975            64  22.57   \n",
       "15     bhinmal               0      IN  1603677070            52  25.00   \n",
       "95        doha               0      QA  1603677074            74  25.29   \n",
       "138  busselton               0      AU  1603677194            52 -33.65   \n",
       "169      dakar               0      SN  1603677250            88  14.69   \n",
       "\n",
       "        Lng  Max Tem (F)  Wind Speed (mph)  \\\n",
       "1     59.53        72.27              5.68   \n",
       "15    72.25        73.26              2.17   \n",
       "95    51.53        78.80              2.24   \n",
       "138  115.33        73.99              3.00   \n",
       "169  -17.44        78.80              8.05   \n",
       "\n",
       "                              Hotel Name  \n",
       "1                        Sur Plaza Hotel  \n",
       "15                      Hotel Sai Palace  \n",
       "95        Al Najada Doha Hotel by Tivoli  \n",
       "138                    Broadwater Resort  \n",
       "169  Radisson Blu Hotel, Dakar Sea Plaza  "
      ]
     },
     "execution_count": 12,
     "metadata": {},
     "output_type": "execute_result"
    }
   ],
   "source": [
    "narrowed_city_df = narrowed_city_df.dropna()\n",
    "narrowed_city_df.head()"
   ]
  },
  {
   "cell_type": "code",
   "execution_count": 13,
   "metadata": {},
   "outputs": [],
   "source": [
    "# NOTE: Do not change any of the code in this cell\n",
    "\n",
    "# Using the template add the hotel marks to the heatmap\n",
    "info_box_template = \"\"\"\n",
    "<dl>\n",
    "<dt>Name</dt><dd>{Hotel Name}</dd>\n",
    "<dt>City</dt><dd>{City}</dd>\n",
    "<dt>Country</dt><dd>{Country}</dd>\n",
    "</dl>\n",
    "\"\"\"\n",
    "# Store the DataFrame Row\n",
    "# NOTE: be sure to update with your DataFrame name\n",
    "hotel_info = [info_box_template.format(**row) for index, row in narrowed_city_df.iterrows()]\n",
    "locations = narrowed_city_df[[\"Lat\", \"Lng\"]]"
   ]
  },
  {
   "cell_type": "code",
   "execution_count": 14,
   "metadata": {},
   "outputs": [
    {
     "data": {
      "application/vnd.jupyter.widget-view+json": {
       "model_id": "f4e6702ba8004ab2a7b0e3a6e346d4e1",
       "version_major": 2,
       "version_minor": 0
      },
      "text/plain": [
       "Figure(layout=FigureLayout(height='500px', margin='0 auto 0 auto', width='500px'))"
      ]
     },
     "metadata": {},
     "output_type": "display_data"
    }
   ],
   "source": [
    "# Add marker layer ontop of heat map\n",
    "# Display Map\n",
    "markers=gmaps.marker_layer(locations, info_box_content=hotel_info)\n",
    "fig.add_layer(markers)\n",
    "fig\n",
    "\n"
   ]
  },
  {
   "cell_type": "code",
   "execution_count": null,
   "metadata": {},
   "outputs": [],
   "source": []
  }
 ],
 "metadata": {
  "kernelspec": {
   "display_name": "Python 3",
   "language": "python",
   "name": "python3"
  },
  "language_info": {
   "codemirror_mode": {
    "name": "ipython",
    "version": 3
   },
   "file_extension": ".py",
   "mimetype": "text/x-python",
   "name": "python",
   "nbconvert_exporter": "python",
   "pygments_lexer": "ipython3",
   "version": "3.8.3"
  },
  "latex_envs": {
   "LaTeX_envs_menu_present": true,
   "autoclose": false,
   "autocomplete": true,
   "bibliofile": "biblio.bib",
   "cite_by": "apalike",
   "current_citInitial": 1,
   "eqLabelWithNumbers": true,
   "eqNumInitial": 1,
   "hotkeys": {
    "equation": "Ctrl-E",
    "itemize": "Ctrl-I"
   },
   "labels_anchors": false,
   "latex_user_defs": false,
   "report_style_numbering": false,
   "user_envs_cfg": false
  }
 },
 "nbformat": 4,
 "nbformat_minor": 2
}
